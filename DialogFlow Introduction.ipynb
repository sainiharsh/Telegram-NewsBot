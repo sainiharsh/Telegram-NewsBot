{
 "cells": [
  {
   "cell_type": "code",
   "execution_count": 2,
   "metadata": {},
   "outputs": [
    {
     "name": "stdout",
     "output_type": "stream",
     "text": [
      "Requirement already satisfied: dialogflow in c:\\python\\lib\\site-packages (1.1.0)\n",
      "Requirement already satisfied: google-api-core[grpc]<2.0.0dev,>=1.14.0 in c:\\python\\lib\\site-packages (from dialogflow) (1.25.1)\n",
      "Requirement already satisfied: requests<3.0.0dev,>=2.18.0 in c:\\python\\lib\\site-packages (from google-api-core[grpc]<2.0.0dev,>=1.14.0->dialogflow) (2.25.1)\n",
      "Requirement already satisfied: pytz in c:\\python\\lib\\site-packages (from google-api-core[grpc]<2.0.0dev,>=1.14.0->dialogflow) (2020.4)\n",
      "Requirement already satisfied: google-auth<2.0dev,>=1.21.1 in c:\\python\\lib\\site-packages (from google-api-core[grpc]<2.0.0dev,>=1.14.0->dialogflow) (1.24.0)\n",
      "Requirement already satisfied: googleapis-common-protos<2.0dev,>=1.6.0 in c:\\python\\lib\\site-packages (from google-api-core[grpc]<2.0.0dev,>=1.14.0->dialogflow) (1.52.0)\n",
      "Requirement already satisfied: setuptools>=40.3.0 in c:\\python\\lib\\site-packages (from google-api-core[grpc]<2.0.0dev,>=1.14.0->dialogflow) (47.1.0)\n",
      "Requirement already satisfied: six>=1.13.0 in c:\\python\\lib\\site-packages (from google-api-core[grpc]<2.0.0dev,>=1.14.0->dialogflow) (1.15.0)\n",
      "Requirement already satisfied: protobuf>=3.12.0 in c:\\python\\lib\\site-packages (from google-api-core[grpc]<2.0.0dev,>=1.14.0->dialogflow) (3.14.0)\n",
      "Requirement already satisfied: grpcio<2.0dev,>=1.29.0 in c:\\python\\lib\\site-packages (from google-api-core[grpc]<2.0.0dev,>=1.14.0->dialogflow) (1.35.0)\n",
      "Requirement already satisfied: pyasn1-modules>=0.2.1 in c:\\python\\lib\\site-packages (from google-auth<2.0dev,>=1.21.1->google-api-core[grpc]<2.0.0dev,>=1.14.0->dialogflow) (0.2.8)\n",
      "Requirement already satisfied: rsa<5,>=3.1.4 in c:\\python\\lib\\site-packages (from google-auth<2.0dev,>=1.21.1->google-api-core[grpc]<2.0.0dev,>=1.14.0->dialogflow) (4.7)\n",
      "Requirement already satisfied: cachetools<5.0,>=2.0.0 in c:\\python\\lib\\site-packages (from google-auth<2.0dev,>=1.21.1->google-api-core[grpc]<2.0.0dev,>=1.14.0->dialogflow) (4.2.1)\n",
      "Requirement already satisfied: pyasn1<0.5.0,>=0.4.6 in c:\\python\\lib\\site-packages (from pyasn1-modules>=0.2.1->google-auth<2.0dev,>=1.21.1->google-api-core[grpc]<2.0.0dev,>=1.14.0->dialogflow) (0.4.8)\n",
      "Requirement already satisfied: urllib3<1.27,>=1.21.1 in c:\\python\\lib\\site-packages (from requests<3.0.0dev,>=2.18.0->google-api-core[grpc]<2.0.0dev,>=1.14.0->dialogflow) (1.26.2)\n",
      "Requirement already satisfied: chardet<5,>=3.0.2 in c:\\python\\lib\\site-packages (from requests<3.0.0dev,>=2.18.0->google-api-core[grpc]<2.0.0dev,>=1.14.0->dialogflow) (4.0.0)\n",
      "Requirement already satisfied: certifi>=2017.4.17 in c:\\python\\lib\\site-packages (from requests<3.0.0dev,>=2.18.0->google-api-core[grpc]<2.0.0dev,>=1.14.0->dialogflow) (2020.12.5)\n",
      "Requirement already satisfied: idna<3,>=2.5 in c:\\python\\lib\\site-packages (from requests<3.0.0dev,>=2.18.0->google-api-core[grpc]<2.0.0dev,>=1.14.0->dialogflow) (2.10)\n",
      "Note: you may need to restart the kernel to use updated packages.\n"
     ]
    },
    {
     "name": "stderr",
     "output_type": "stream",
     "text": [
      "WARNING: You are using pip version 21.0; however, version 21.0.1 is available.\n",
      "You should consider upgrading via the 'c:\\python\\python.exe -m pip install --upgrade pip' command.\n"
     ]
    }
   ],
   "source": [
    "pip install dialogflow"
   ]
  },
  {
   "cell_type": "code",
   "execution_count": 116,
   "metadata": {},
   "outputs": [],
   "source": [
    "import os\n",
    "os.environ[\"GOOGLE_APPLICATION_CREDENTIALS\"] = \"client.json\"\n",
    "\n",
    "import dialogflow_v2 as dialogflow\n",
    "dialogflow_session_client = dialogflow.SessionsClient()\n",
    "PROJECT_ID = \"newsbot-9m9q\""
   ]
  },
  {
   "cell_type": "code",
   "execution_count": 117,
   "metadata": {},
   "outputs": [],
   "source": [
    "def detect_intent_from_text(text,session_id,language_code='en'):\n",
    "    session = dialogflow_session_client.session_path(PROJECT_ID,session_id)\n",
    "    text_input = dialogflow.types.TextInput(text=text,language_code=language_code)\n",
    "    query_input = dialogflow.types.QueryInput(text=text_input)\n",
    "    response = dialogflow_session_client.detect_intent(session=session,query_input=query_input)\n",
    "    return response.query_result"
   ]
  },
  {
   "cell_type": "code",
   "execution_count": 173,
   "metadata": {},
   "outputs": [],
   "source": [
    "response = detect_intent_from_text(\"India news\",12345)"
   ]
  },
  {
   "cell_type": "code",
   "execution_count": 174,
   "metadata": {},
   "outputs": [
    {
     "data": {
      "text/plain": [
       "query_text: \"India news\"\n",
       "parameters {\n",
       "  fields {\n",
       "    key: \"date-time\"\n",
       "    value {\n",
       "      string_value: \"\"\n",
       "    }\n",
       "  }\n",
       "  fields {\n",
       "    key: \"geo-city\"\n",
       "    value {\n",
       "      string_value: \"\"\n",
       "    }\n",
       "  }\n",
       "  fields {\n",
       "    key: \"geo-country\"\n",
       "    value {\n",
       "      string_value: \"India\"\n",
       "    }\n",
       "  }\n",
       "  fields {\n",
       "    key: \"language\"\n",
       "    value {\n",
       "      string_value: \"\"\n",
       "    }\n",
       "  }\n",
       "  fields {\n",
       "    key: \"topic\"\n",
       "    value {\n",
       "      string_value: \"\"\n",
       "    }\n",
       "  }\n",
       "}\n",
       "all_required_params_present: true\n",
       "fulfillment_messages {\n",
       "  text {\n",
       "    text: \"\"\n",
       "  }\n",
       "}\n",
       "intent {\n",
       "  name: \"projects/newsbot-9m9q/agent/intents/0fd30d1e-7178-47ca-b22f-591e04f8e952\"\n",
       "  display_name: \"get_news\"\n",
       "}\n",
       "intent_detection_confidence: 1.0\n",
       "language_code: \"en\""
      ]
     },
     "execution_count": 174,
     "metadata": {},
     "output_type": "execute_result"
    }
   ],
   "source": [
    "response"
   ]
  },
  {
   "cell_type": "code",
   "execution_count": 120,
   "metadata": {},
   "outputs": [
    {
     "data": {
      "text/plain": [
       "'get_news'"
      ]
     },
     "execution_count": 120,
     "metadata": {},
     "output_type": "execute_result"
    }
   ],
   "source": [
    "response.intent.display_name"
   ]
  },
  {
   "cell_type": "code",
   "execution_count": 175,
   "metadata": {},
   "outputs": [
    {
     "data": {
      "text/plain": [
       "{'date-time': '',\n",
       " 'language': '',\n",
       " 'geo-country': 'India',\n",
       " 'topic': '',\n",
       " 'geo-city': ''}"
      ]
     },
     "execution_count": 175,
     "metadata": {},
     "output_type": "execute_result"
    }
   ],
   "source": [
    "dict(response.parameters)"
   ]
  },
  {
   "cell_type": "code",
   "execution_count": null,
   "metadata": {},
   "outputs": [],
   "source": []
  },
  {
   "cell_type": "code",
   "execution_count": null,
   "metadata": {},
   "outputs": [],
   "source": []
  },
  {
   "cell_type": "code",
   "execution_count": 37,
   "metadata": {},
   "outputs": [
    {
     "name": "stdout",
     "output_type": "stream",
     "text": [
      "Requirement already satisfied: gnewsclient in c:\\python\\lib\\site-packages (1.12)\n",
      "Requirement already satisfied: requests in c:\\python\\lib\\site-packages (from gnewsclient) (2.25.1)\n",
      "Requirement already satisfied: fuzzywuzzy in c:\\python\\lib\\site-packages (from gnewsclient) (0.18.0)\n",
      "Requirement already satisfied: feedparser in c:\\python\\lib\\site-packages (from gnewsclient) (6.0.2)\n",
      "Requirement already satisfied: sgmllib3k in c:\\python\\lib\\site-packages (from feedparser->gnewsclient) (1.0.0)\n",
      "Requirement already satisfied: idna<3,>=2.5 in c:\\python\\lib\\site-packages (from requests->gnewsclient) (2.10)\n",
      "Requirement already satisfied: chardet<5,>=3.0.2 in c:\\python\\lib\\site-packages (from requests->gnewsclient) (4.0.0)\n",
      "Requirement already satisfied: certifi>=2017.4.17 in c:\\python\\lib\\site-packages (from requests->gnewsclient) (2020.12.5)\n",
      "Requirement already satisfied: urllib3<1.27,>=1.21.1 in c:\\python\\lib\\site-packages (from requests->gnewsclient) (1.26.2)\n"
     ]
    },
    {
     "name": "stderr",
     "output_type": "stream",
     "text": [
      "WARNING: You are using pip version 21.0; however, version 21.0.1 is available.\n",
      "You should consider upgrading via the 'c:\\python\\python.exe -m pip install --upgrade pip' command.\n"
     ]
    }
   ],
   "source": [
    "!pip install gnewsclient"
   ]
  },
  {
   "cell_type": "code",
   "execution_count": 176,
   "metadata": {},
   "outputs": [],
   "source": [
    "from gnewsclient import gnewsclient"
   ]
  },
  {
   "cell_type": "code",
   "execution_count": 177,
   "metadata": {},
   "outputs": [],
   "source": [
    "client = gnewsclient.NewsClient()"
   ]
  },
  {
   "cell_type": "code",
   "execution_count": 178,
   "metadata": {},
   "outputs": [
    {
     "data": {
      "text/plain": [
       "{'location': 'United States', 'language': 'english', 'topic': 'Top Stories'}"
      ]
     },
     "execution_count": 178,
     "metadata": {},
     "output_type": "execute_result"
    }
   ],
   "source": [
    "client.get_config()"
   ]
  },
  {
   "cell_type": "markdown",
   "metadata": {},
   "source": [
    "# client.locations"
   ]
  },
  {
   "cell_type": "code",
   "execution_count": 72,
   "metadata": {},
   "outputs": [
    {
     "data": {
      "text/plain": [
       "['english',\n",
       " 'indonesian',\n",
       " 'czech',\n",
       " 'german',\n",
       " 'spanish',\n",
       " 'french',\n",
       " 'italian',\n",
       " 'latvian',\n",
       " 'lithuanian',\n",
       " 'hungarian',\n",
       " 'dutch',\n",
       " 'norwegian',\n",
       " 'polish',\n",
       " 'portuguese brasil',\n",
       " 'portuguese portugal',\n",
       " 'romanian',\n",
       " 'slovak',\n",
       " 'slovenian',\n",
       " 'swedish',\n",
       " 'vietnamese',\n",
       " 'turkish',\n",
       " 'greek',\n",
       " 'bulgarian',\n",
       " 'russian',\n",
       " 'serbian',\n",
       " 'ukrainian',\n",
       " 'hebrew',\n",
       " 'arabic',\n",
       " 'marathi',\n",
       " 'hindi',\n",
       " 'bengali',\n",
       " 'tamil',\n",
       " 'telugu',\n",
       " 'malyalam',\n",
       " 'thai',\n",
       " 'chinese simplified',\n",
       " 'chinese traditional',\n",
       " 'japanese',\n",
       " 'korean']"
      ]
     },
     "execution_count": 72,
     "metadata": {},
     "output_type": "execute_result"
    }
   ],
   "source": [
    "client.languages"
   ]
  },
  {
   "cell_type": "code",
   "execution_count": 125,
   "metadata": {},
   "outputs": [
    {
     "data": {
      "text/plain": [
       "['Top Stories',\n",
       " 'World',\n",
       " 'Nation',\n",
       " 'Business',\n",
       " 'Technology',\n",
       " 'Entertainment',\n",
       " 'Sports',\n",
       " 'Science',\n",
       " 'Health']"
      ]
     },
     "execution_count": 125,
     "metadata": {},
     "output_type": "execute_result"
    }
   ],
   "source": [
    "client.topics"
   ]
  },
  {
   "cell_type": "code",
   "execution_count": 179,
   "metadata": {},
   "outputs": [],
   "source": [
    " client.location = 'India'\n",
    "# client.language = 'English'\n",
    "# client.topic = 'Sports'"
   ]
  },
  {
   "cell_type": "code",
   "execution_count": 180,
   "metadata": {},
   "outputs": [
    {
     "data": {
      "text/plain": [
       "{'location': 'India', 'language': 'english', 'topic': 'Top Stories'}"
      ]
     },
     "execution_count": 180,
     "metadata": {},
     "output_type": "execute_result"
    }
   ],
   "source": [
    "client.get_config()"
   ]
  },
  {
   "cell_type": "code",
   "execution_count": 181,
   "metadata": {},
   "outputs": [
    {
     "data": {
      "text/plain": [
       "[{'title': \"Sitharaman's 'Economic Vaccine' coming on Monday; Will Budget 2021-22 go beyond 'bahi-khata'? - Moneycontrol.com\",\n",
       "  'link': 'https://news.google.com/__i/rss/rd/articles/CBMilQFodHRwczovL3d3dy5tb25leWNvbnRyb2wuY29tL25ld3MvYnVzaW5lc3MvYnVkZ2V0L3NpdGhhcmFtYW5zLWVjb25vbWljLXZhY2NpbmUtY29taW5nLW9uLW1vbmRheS13aWxsLWJ1ZGdldC0yMDIxLTIyLWdvLWJleW9uZC1iYWhpLWtoYXRhLTY0MjIzMzEuaHRtbNIBmQFodHRwczovL3d3dy5tb25leWNvbnRyb2wuY29tL25ld3MvYnVzaW5lc3MvYnVkZ2V0L3NpdGhhcmFtYW5zLWVjb25vbWljLXZhY2NpbmUtY29taW5nLW9uLW1vbmRheS13aWxsLWJ1ZGdldC0yMDIxLTIyLWdvLWJleW9uZC1iYWhpLWtoYXRhLTY0MjIzMzEuaHRtbC9hbXA?oc=5',\n",
       "  'media': None},\n",
       " {'title': '\"Ignorance, Misinformation\": Agriculture Minister Takes On Sharad Pawar - NDTV',\n",
       "  'link': 'https://news.google.com/__i/rss/rd/articles/CBMiggFodHRwczovL3d3dy5uZHR2LmNvbS9pbmRpYS1uZXdzL25hcmVuZHJhLXNpbmdoLXRvbWFyLXRha2VzLW9uLXNoYXJhZC1wYXdhcnMtY29tbWVudHMtb24tZmFybS1sYXdzLWlnbm9yYW5jZS1taXNpbmZvcm1hdGlvbi0yMzYwODE10gGXAWh0dHBzOi8vd3d3Lm5kdHYuY29tL2luZGlhLW5ld3MvbmFyZW5kcmEtc2luZ2gtdG9tYXItdGFrZXMtb24tc2hhcmFkLXBhd2Fycy1jb21tZW50cy1vbi1mYXJtLWxhd3MtaWdub3JhbmNlLW1pc2luZm9ybWF0aW9uLTIzNjA4MTU_YW1wPTEmYWthbWFpLXJ1bT1vZmY?oc=5',\n",
       "  'media': None},\n",
       " {'title': 'Sasikala discharged from Bengaluru hospital - The Hindu',\n",
       "  'link': 'https://news.google.com/__i/rss/rd/articles/CBMicGh0dHBzOi8vd3d3LnRoZWhpbmR1LmNvbS9uZXdzL25hdGlvbmFsL2thcm5hdGFrYS9zYXNpa2FsYS1kaXNjaGFyZ2VkLWZyb20tYmVuZ2FsdXJ1LWhvc3BpdGFsL2FydGljbGUzMzcwODIxNS5lY2XSAXVodHRwczovL3d3dy50aGVoaW5kdS5jb20vbmV3cy9uYXRpb25hbC9rYXJuYXRha2Evc2FzaWthbGEtZGlzY2hhcmdlZC1mcm9tLWJlbmdhbHVydS1ob3NwaXRhbC9hcnRpY2xlMzM3MDgyMTUuZWNlL2FtcC8?oc=5',\n",
       "  'media': None},\n",
       " {'title': \"India providing solutions to world's problems: PM Modi - Times of India\",\n",
       "  'link': 'https://news.google.com/__i/rss/rd/articles/CBMid2h0dHBzOi8vdGltZXNvZmluZGlhLmluZGlhdGltZXMuY29tL2luZGlhL2luZGlhLXByb3ZpZGluZy1zb2x1dGlvbnMtdG8td29ybGRzLXByb2JsZW1zLXBtLW1vZGkvYXJ0aWNsZXNob3cvODA2MTQyMTEuY21z0gFyaHR0cHM6Ly9tLnRpbWVzb2ZpbmRpYS5jb20vaW5kaWEvaW5kaWEtcHJvdmlkaW5nLXNvbHV0aW9ucy10by13b3JsZHMtcHJvYmxlbXMtcG0tbW9kaS9hbXBfYXJ0aWNsZXNob3cvODA2MTQyMTEuY21z?oc=5',\n",
       "  'media': None},\n",
       " {'title': '\"Will Be Left All Alone\": Amit Shah Slams Mamata Banerjee Ahead Of Polls - NDTV',\n",
       "  'link': 'https://news.google.com/__i/rss/rd/articles/CBMiigFodHRwczovL3d3dy5uZHR2LmNvbS9pbmRpYS1uZXdzL2JlbmdhbC1hc3NlbWJseS1lbGVjdGlvbi13aWxsLWJlLWxlZnQtYWxsLWFsb25lLWFtaXQtc2hhaHMtc3dpcGUtYXQtbWFtYXRhLWJhbmVyamVlLWFoZWFkLW9mLXBvbGxzLTIzNjA3NjfSAZ8BaHR0cHM6Ly93d3cubmR0di5jb20vaW5kaWEtbmV3cy9iZW5nYWwtYXNzZW1ibHktZWxlY3Rpb24td2lsbC1iZS1sZWZ0LWFsbC1hbG9uZS1hbWl0LXNoYWhzLXN3aXBlLWF0LW1hbWF0YS1iYW5lcmplZS1haGVhZC1vZi1wb2xscy0yMzYwNzY3P2FtcD0xJmFrYW1haS1ydW09b2Zm?oc=5',\n",
       "  'media': None},\n",
       " {'title': \"Farmers' Rally: Delhi Police Also Register Case Against Tharoor, Six Journalists - The Wire\",\n",
       "  'link': 'https://news.google.com/__i/rss/rd/articles/CBMia2h0dHBzOi8vdGhld2lyZS5pbi9yaWdodHMvZmFybWVycy1yYWxseS1kZWxoaS1wb2xpY2UtcmVnaXN0ZXItY2FzZS10aGFyb29yLXJhamRlZXAtc2FyZGVzYWktc2l4LWpvdXJuYWxpc3Rz0gF5aHR0cHM6Ly9tLnRoZXdpcmUuaW4vYXJ0aWNsZS9yaWdodHMvZmFybWVycy1yYWxseS1kZWxoaS1wb2xpY2UtcmVnaXN0ZXItY2FzZS10aGFyb29yLXJhamRlZXAtc2FyZGVzYWktc2l4LWpvdXJuYWxpc3RzL2FtcA?oc=5',\n",
       "  'media': None},\n",
       " {'title': 'Delhi Congress passes resolution to elect Rahul Gandhi as party president with immediate effect - Mint',\n",
       "  'link': 'https://news.google.com/__i/rss/rd/articles/CBMihAFodHRwczovL3d3dy5saXZlbWludC5jb20vcG9saXRpY3MvbmV3cy9kZWxoaS1jb25ncmVzcy1wYXNzZXMtcmVzb2x1dGlvbi10by1lbGVjdC1yYWh1bC1nYW5kaGktYXMtcGFydHktcHJlc2lkZW50LTExNjEyMDk4OTYyODAzLmh0bWzSAYgBaHR0cHM6Ly93d3cubGl2ZW1pbnQuY29tL3BvbGl0aWNzL25ld3MvZGVsaGktY29uZ3Jlc3MtcGFzc2VzLXJlc29sdXRpb24tdG8tZWxlY3QtcmFodWwtZ2FuZGhpLWFzLXBhcnR5LXByZXNpZGVudC9hbXAtMTE2MTIwOTg5NjI4MDMuaHRtbA?oc=5',\n",
       "  'media': None},\n",
       " {'title': \"PM Modi's words will further strengthen Team India: Ravi Shastri - Times of India\",\n",
       "  'link': 'https://news.google.com/__i/rss/rd/articles/CBMijwFodHRwczovL3RpbWVzb2ZpbmRpYS5pbmRpYXRpbWVzLmNvbS9zcG9ydHMvY3JpY2tldC9uZXdzL3BtLW1vZGlzLXdvcmRzLXdpbGwtZnVydGhlci1zdHJlbmd0aGVuLXRlYW0taW5kaWEtcmF2aS1zaGFzdHJpL2FydGljbGVzaG93LzgwNjEzNTIzLmNtc9IBigFodHRwczovL20udGltZXNvZmluZGlhLmNvbS9zcG9ydHMvY3JpY2tldC9uZXdzL3BtLW1vZGlzLXdvcmRzLXdpbGwtZnVydGhlci1zdHJlbmd0aGVuLXRlYW0taW5kaWEtcmF2aS1zaGFzdHJpL2FtcF9hcnRpY2xlc2hvdy84MDYxMzUyMy5jbXM?oc=5',\n",
       "  'media': None},\n",
       " {'title': 'Govt proposal on farm laws’ suspension stands: PM Modi - The Hindu',\n",
       "  'link': 'https://news.google.com/__i/rss/rd/articles/CBMimAFodHRwczovL3d3dy50aGVoaW5kdS5jb20vbmV3cy9uYXRpb25hbC9nb3Z0LWNvbnRpbnVvdXNseS10cnlpbmctdG8tcmVzb2x2ZS1pc3N1ZXMtcmFpc2VkLWJ5LXByb3Rlc3RpbmctZmFybWVycy10aHJvdWdoLXRhbGtzLXBtLW1vZGkvYXJ0aWNsZTMzNzAyNzk0LmVjZdIBnQFodHRwczovL3d3dy50aGVoaW5kdS5jb20vbmV3cy9uYXRpb25hbC9nb3Z0LWNvbnRpbnVvdXNseS10cnlpbmctdG8tcmVzb2x2ZS1pc3N1ZXMtcmFpc2VkLWJ5LXByb3Rlc3RpbmctZmFybWVycy10aHJvdWdoLXRhbGtzLXBtLW1vZGkvYXJ0aWNsZTMzNzAyNzk0LmVjZS9hbXAv?oc=5',\n",
       "  'media': None},\n",
       " {'title': '5 docs in Karnataka get COVID after first vaccine shot, health officials allay fears - The News Minute',\n",
       "  'link': 'https://news.google.com/__i/rss/rd/articles/CBMifWh0dHBzOi8vd3d3LnRoZW5ld3NtaW51dGUuY29tL2FydGljbGUvNS1kb2NzLWthcm5hdGFrYS1nZXQtY292aWQtYWZ0ZXItZmlyc3QtdmFjY2luZS1zaG90LWhlYWx0aC1vZmZpY2lhbHMtYWxsYXktZmVhcnMtMTQyNDY10gGBAWh0dHBzOi8vd3d3LnRoZW5ld3NtaW51dGUuY29tL2FydGljbGUvNS1kb2NzLWthcm5hdGFrYS1nZXQtY292aWQtYWZ0ZXItZmlyc3QtdmFjY2luZS1zaG90LWhlYWx0aC1vZmZpY2lhbHMtYWxsYXktZmVhcnMtMTQyNDY1P2FtcA?oc=5',\n",
       "  'media': None}]"
      ]
     },
     "execution_count": 181,
     "metadata": {},
     "output_type": "execute_result"
    }
   ],
   "source": [
    "client.get_news()"
   ]
  },
  {
   "cell_type": "code",
   "execution_count": null,
   "metadata": {},
   "outputs": [],
   "source": []
  },
  {
   "cell_type": "code",
   "execution_count": null,
   "metadata": {},
   "outputs": [],
   "source": []
  },
  {
   "cell_type": "code",
   "execution_count": null,
   "metadata": {},
   "outputs": [],
   "source": []
  },
  {
   "cell_type": "code",
   "execution_count": null,
   "metadata": {},
   "outputs": [],
   "source": []
  },
  {
   "cell_type": "code",
   "execution_count": null,
   "metadata": {},
   "outputs": [],
   "source": []
  }
 ],
 "metadata": {
  "kernelspec": {
   "display_name": "Python 3",
   "language": "python",
   "name": "python3"
  },
  "language_info": {
   "codemirror_mode": {
    "name": "ipython",
    "version": 3
   },
   "file_extension": ".py",
   "mimetype": "text/x-python",
   "name": "python",
   "nbconvert_exporter": "python",
   "pygments_lexer": "ipython3",
   "version": "3.8.4"
  }
 },
 "nbformat": 4,
 "nbformat_minor": 4
}
